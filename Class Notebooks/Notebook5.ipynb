{
  "nbformat": 4,
  "nbformat_minor": 0,
  "metadata": {
    "colab": {
      "name": "Notebook5.ipynb",
      "provenance": []
    },
    "kernelspec": {
      "name": "python3",
      "display_name": "Python 3"
    }
  },
  "cells": [
    {
      "cell_type": "markdown",
      "metadata": {
        "id": "rIzXXVGuR9YM",
        "colab_type": "text"
      },
      "source": [
        "# Linear separable models\n",
        "\n",
        "We've now covered two ways to do prediction with a single variable, classification using logistic regression and prediction using a line and least squares. What if we have several predictiors? \n",
        "\n",
        "In both the logistic and linear regression models, we had a linear predictor, specifically, \n",
        "$$\n",
        "\\eta_i = \\beta_0 + \\beta_1 x_i.\n",
        "$$\n",
        "In the continuous case, we were modeling the expected value of the outcomes as linear. In the binary case, we were assuming that the naturual logarithm of the odds of a 1 outcome was linear. \n",
        "\n",
        "To estimate the unknown parameters, $\\beta_0$ and $\\beta_1$ we minimized\n",
        "$$\n",
        "\\sum_{i=1}^n || y_i - \\eta_i||^2 \n",
        "$$\n",
        "in the linear case and \n",
        "$$\n",
        "-\\sum_{i=1}^n \\left[\n",
        "  Y_i \\eta_i + \\log\\left\\{\\frac{1}{1 + e^{\\eta_i}} \\right\\} \\right].\n",
        "$$\n",
        "in the binary outcome case (where, recall, $\\eta_i$ depends on the parameters). \n",
        "\n",
        "We can easily extend these models to multiple predictors by assuming that the impact of the multiple predictors is linear and separable. That is,\n",
        "\n",
        "$$\n",
        "\\eta_i = \\beta_0 + \\beta_1 x_{1i} + \\beta_2 x_{2i} + \\ldots \\beta_{p-1} x_{p-1,i}\n",
        "$$\n",
        "\n",
        "If we think about this as vectors and matrices, we obtain\n",
        "\n",
        "$$\n",
        "\\eta = X \\beta\n",
        "$$\n",
        "where $\\eta$ is an $n \\times 1$ vector, $X$ is an $n \\times p$ matrix with $i,j$ entry $x_{ij}$ and $\\beta$ is a $p\\times 1$ vector with entries $\\beta_j$. \n"
      ]
    },
    {
      "cell_type": "markdown",
      "metadata": {
        "id": "ApSoCaMXb4x-",
        "colab_type": "text"
      },
      "source": [
        "Let's look at the voxel-level data that we've been working with. First let's load the data."
      ]
    },
    {
      "cell_type": "code",
      "metadata": {
        "id": "5eIqNlyifK-d",
        "colab_type": "code",
        "colab": {}
      },
      "source": [
        ""
      ],
      "execution_count": 0,
      "outputs": []
    },
    {
      "cell_type": "code",
      "metadata": {
        "id": "GMMLqAkYRxb5",
        "colab_type": "code",
        "outputId": "b44abb7f-3790-4843-ac36-44476b563e4d",
        "colab": {
          "base_uri": "https://localhost:8080/",
          "height": 197
        }
      },
      "source": [
        "import numpy as np\n",
        "import pandas as pd\n",
        "import seaborn as sns\n",
        "import matplotlib.pyplot as plt\n",
        "import sklearn.linear_model as lm\n",
        "import sklearn as skl\n",
        "import statsmodels.formula.api as smf\n",
        "import statsmodels as sm\n",
        "\n",
        "## this sets some style parameters\n",
        "sns.set()\n",
        "\n",
        "## Download in the data if it's not already there\n",
        "! if [ ! -e oasis.csv ]; \\\n",
        "then wget https://raw.githubusercontent.com/jkrachm2/Data-Science/master/Master%20Repo/ds4bme_intro-master/data/oasis.csv; \\\n",
        "fi;\n",
        "\n",
        "## Read in the data and display a few rows\n",
        "dat = pd.read_csv(\"oasis.csv\")"
      ],
      "execution_count": 0,
      "outputs": [
        {
          "output_type": "stream",
          "text": [
            "--2020-03-23 22:31:31--  https://raw.githubusercontent.com/jkrachm2/Data-Science/master/Master%20Repo/ds4bme_intro-master/data/oasis.csv\n",
            "Resolving raw.githubusercontent.com (raw.githubusercontent.com)... 151.101.0.133, 151.101.64.133, 151.101.128.133, ...\n",
            "Connecting to raw.githubusercontent.com (raw.githubusercontent.com)|151.101.0.133|:443... connected.\n",
            "HTTP request sent, awaiting response... 200 OK\n",
            "Length: 22274 (22K) [text/plain]\n",
            "Saving to: ‘oasis.csv’\n",
            "\n",
            "oasis.csv           100%[===================>]  21.75K  --.-KB/s    in 0.01s   \n",
            "\n",
            "2020-03-23 22:31:36 (1.78 MB/s) - ‘oasis.csv’ saved [22274/22274]\n",
            "\n"
          ],
          "name": "stdout"
        }
      ]
    },
    {
      "cell_type": "markdown",
      "metadata": {
        "id": "HUih09BMdi9_",
        "colab_type": "text"
      },
      "source": [
        "Let's first try to fit the proton density data from the other imaging data. I'm going to use the `statsmodels` version of linear models since it has a nice format for dataframes."
      ]
    },
    {
      "cell_type": "code",
      "metadata": {
        "id": "Onw6CyaCdrtz",
        "colab_type": "code",
        "colab": {}
      },
      "source": [
        "trainFraction = .75\n",
        "\n",
        "sample = np.random.uniform(size = 100) < trainFraction\n",
        "trainingDat = dat[sample]\n",
        "testingDat = dat[~sample]"
      ],
      "execution_count": 0,
      "outputs": []
    },
    {
      "cell_type": "code",
      "metadata": {
        "id": "fDJOnSsxe2N5",
        "colab_type": "code",
        "outputId": "192a54b1-4c33-44b2-ade1-ed0a844af432",
        "colab": {
          "base_uri": "https://localhost:8080/",
          "height": 461
        }
      },
      "source": [
        "results = smf.ols('PD ~ FLAIR + T1 + T2  + FLAIR_10 + T1_10 + T2_10 + FLAIR_20', data = trainingDat).fit()\n",
        "print(results.summary2())"
      ],
      "execution_count": 0,
      "outputs": [
        {
          "output_type": "stream",
          "text": [
            "                 Results: Ordinary least squares\n",
            "=================================================================\n",
            "Model:              OLS              Adj. R-squared:     0.782   \n",
            "Dependent Variable: PD               AIC:                66.5423 \n",
            "Date:               2020-03-23 22:31 BIC:                85.1881 \n",
            "No. Observations:   76               Log-Likelihood:     -25.271 \n",
            "Df Model:           7                F-statistic:        39.53   \n",
            "Df Residuals:       68               Prob (F-statistic): 1.45e-21\n",
            "R-squared:          0.803            Scale:              0.12725 \n",
            "------------------------------------------------------------------\n",
            "               Coef.   Std.Err.     t     P>|t|    [0.025   0.975]\n",
            "------------------------------------------------------------------\n",
            "Intercept      0.2165    0.1275   1.6980  0.0941  -0.0379   0.4710\n",
            "FLAIR         -0.0414    0.0803  -0.5159  0.6076  -0.2017   0.1188\n",
            "T1            -0.1863    0.0820  -2.2710  0.0263  -0.3500  -0.0226\n",
            "T2             0.6680    0.0813   8.2142  0.0000   0.5058   0.8303\n",
            "FLAIR_10      -0.3709    0.3553  -1.0441  0.3002  -1.0799   0.3380\n",
            "T1_10          0.1661    0.1598   1.0390  0.3025  -0.1529   0.4850\n",
            "T2_10         -0.3179    0.3201  -0.9931  0.3242  -0.9568   0.3209\n",
            "FLAIR_20       2.3995    0.8430   2.8465  0.0058   0.7174   4.0816\n",
            "-----------------------------------------------------------------\n",
            "Omnibus:              3.750        Durbin-Watson:           2.310\n",
            "Prob(Omnibus):        0.153        Jarque-Bera (JB):        4.172\n",
            "Skew:                 0.018        Prob(JB):                0.124\n",
            "Kurtosis:             4.147        Condition No.:           49   \n",
            "=================================================================\n",
            "\n"
          ],
          "name": "stdout"
        }
      ]
    },
    {
      "cell_type": "code",
      "metadata": {
        "id": "7UrWqsZAfF1u",
        "colab_type": "code",
        "outputId": "778c6e57-2e1b-415d-9e67-7658c08d4d15",
        "colab": {
          "base_uri": "https://localhost:8080/",
          "height": 69
        }
      },
      "source": [
        "x = dat[['FLAIR','T1', 'T2', 'FLAIR_10', 'T1_10', 'T2_10', 'FLAIR_20']]\n",
        "y = dat[['GOLD_Lesions']]\n",
        "## Add the intercept column\n",
        "x = sm.tools.add_constant(x)\n",
        "\n",
        "xtraining = x[sample]\n",
        "xtesting = x[~sample]\n",
        "ytraining = y[sample]\n",
        "ytesting = y[~sample]\n"
      ],
      "execution_count": 0,
      "outputs": [
        {
          "output_type": "stream",
          "text": [
            "/usr/local/lib/python3.6/dist-packages/numpy/core/fromnumeric.py:2542: FutureWarning: Method .ptp is deprecated and will be removed in a future version. Use numpy.ptp instead.\n",
            "  return ptp(axis=axis, out=out, **kwargs)\n"
          ],
          "name": "stderr"
        }
      ]
    },
    {
      "cell_type": "code",
      "metadata": {
        "id": "MaU1zUQluyFb",
        "colab_type": "code",
        "outputId": "160cd45e-3a68-450b-8bd9-8e0dead6ce52",
        "colab": {
          "base_uri": "https://localhost:8080/",
          "height": 65
        }
      },
      "source": [
        "fit = sm.discrete.discrete_model.Logit(ytraining, xtraining).fit()"
      ],
      "execution_count": 0,
      "outputs": [
        {
          "output_type": "stream",
          "text": [
            "Optimization terminated successfully.\n",
            "         Current function value: 0.247246\n",
            "         Iterations 8\n"
          ],
          "name": "stdout"
        }
      ]
    },
    {
      "cell_type": "code",
      "metadata": {
        "id": "clrxtIgQvDhJ",
        "colab_type": "code",
        "outputId": "e0741dfc-e9c5-4e3a-8ae2-7ce359b6338d",
        "colab": {
          "base_uri": "https://localhost:8080/",
          "height": 364
        }
      },
      "source": [
        "fit.summary()"
      ],
      "execution_count": 0,
      "outputs": [
        {
          "output_type": "execute_result",
          "data": {
            "text/html": [
              "<table class=\"simpletable\">\n",
              "<caption>Logit Regression Results</caption>\n",
              "<tr>\n",
              "  <th>Dep. Variable:</th>     <td>GOLD_Lesions</td>   <th>  No. Observations:  </th>  <td>    76</td>  \n",
              "</tr>\n",
              "<tr>\n",
              "  <th>Model:</th>                 <td>Logit</td>      <th>  Df Residuals:      </th>  <td>    68</td>  \n",
              "</tr>\n",
              "<tr>\n",
              "  <th>Method:</th>                 <td>MLE</td>       <th>  Df Model:          </th>  <td>     7</td>  \n",
              "</tr>\n",
              "<tr>\n",
              "  <th>Date:</th>            <td>Mon, 23 Mar 2020</td> <th>  Pseudo R-squ.:     </th>  <td>0.6433</td>  \n",
              "</tr>\n",
              "<tr>\n",
              "  <th>Time:</th>                <td>22:31:36</td>     <th>  Log-Likelihood:    </th> <td> -18.791</td> \n",
              "</tr>\n",
              "<tr>\n",
              "  <th>converged:</th>             <td>True</td>       <th>  LL-Null:           </th> <td> -52.679</td> \n",
              "</tr>\n",
              "<tr>\n",
              "  <th>Covariance Type:</th>     <td>nonrobust</td>    <th>  LLR p-value:       </th> <td>4.152e-12</td>\n",
              "</tr>\n",
              "</table>\n",
              "<table class=\"simpletable\">\n",
              "<tr>\n",
              "      <td></td>        <th>coef</th>     <th>std err</th>      <th>z</th>      <th>P>|z|</th>  <th>[0.025</th>    <th>0.975]</th>  \n",
              "</tr>\n",
              "<tr>\n",
              "  <th>const</th>    <td>   -3.7753</td> <td>    1.757</td> <td>   -2.149</td> <td> 0.032</td> <td>   -7.219</td> <td>   -0.332</td>\n",
              "</tr>\n",
              "<tr>\n",
              "  <th>FLAIR</th>    <td>    1.4890</td> <td>    1.180</td> <td>    1.262</td> <td> 0.207</td> <td>   -0.823</td> <td>    3.801</td>\n",
              "</tr>\n",
              "<tr>\n",
              "  <th>T1</th>       <td>    3.3187</td> <td>    1.376</td> <td>    2.411</td> <td> 0.016</td> <td>    0.621</td> <td>    6.016</td>\n",
              "</tr>\n",
              "<tr>\n",
              "  <th>T2</th>       <td>    2.8589</td> <td>    1.420</td> <td>    2.013</td> <td> 0.044</td> <td>    0.075</td> <td>    5.642</td>\n",
              "</tr>\n",
              "<tr>\n",
              "  <th>FLAIR_10</th> <td>    5.8541</td> <td>    3.747</td> <td>    1.562</td> <td> 0.118</td> <td>   -1.491</td> <td>   13.199</td>\n",
              "</tr>\n",
              "<tr>\n",
              "  <th>T1_10</th>    <td>    1.0333</td> <td>    1.584</td> <td>    0.653</td> <td> 0.514</td> <td>   -2.070</td> <td>    4.137</td>\n",
              "</tr>\n",
              "<tr>\n",
              "  <th>T2_10</th>    <td>   -7.4524</td> <td>    4.283</td> <td>   -1.740</td> <td> 0.082</td> <td>  -15.847</td> <td>    0.943</td>\n",
              "</tr>\n",
              "<tr>\n",
              "  <th>FLAIR_20</th> <td>  -14.6407</td> <td>    9.431</td> <td>   -1.552</td> <td> 0.121</td> <td>  -33.126</td> <td>    3.844</td>\n",
              "</tr>\n",
              "</table>"
            ],
            "text/plain": [
              "<class 'statsmodels.iolib.summary.Summary'>\n",
              "\"\"\"\n",
              "                           Logit Regression Results                           \n",
              "==============================================================================\n",
              "Dep. Variable:           GOLD_Lesions   No. Observations:                   76\n",
              "Model:                          Logit   Df Residuals:                       68\n",
              "Method:                           MLE   Df Model:                            7\n",
              "Date:                Mon, 23 Mar 2020   Pseudo R-squ.:                  0.6433\n",
              "Time:                        22:31:36   Log-Likelihood:                -18.791\n",
              "converged:                       True   LL-Null:                       -52.679\n",
              "Covariance Type:            nonrobust   LLR p-value:                 4.152e-12\n",
              "==============================================================================\n",
              "                 coef    std err          z      P>|z|      [0.025      0.975]\n",
              "------------------------------------------------------------------------------\n",
              "const         -3.7753      1.757     -2.149      0.032      -7.219      -0.332\n",
              "FLAIR          1.4890      1.180      1.262      0.207      -0.823       3.801\n",
              "T1             3.3187      1.376      2.411      0.016       0.621       6.016\n",
              "T2             2.8589      1.420      2.013      0.044       0.075       5.642\n",
              "FLAIR_10       5.8541      3.747      1.562      0.118      -1.491      13.199\n",
              "T1_10          1.0333      1.584      0.653      0.514      -2.070       4.137\n",
              "T2_10         -7.4524      4.283     -1.740      0.082     -15.847       0.943\n",
              "FLAIR_20     -14.6407      9.431     -1.552      0.121     -33.126       3.844\n",
              "==============================================================================\n",
              "\"\"\""
            ]
          },
          "metadata": {
            "tags": []
          },
          "execution_count": 6
        }
      ]
    },
    {
      "cell_type": "markdown",
      "metadata": {
        "id": "EkCEdWt0xGzn",
        "colab_type": "text"
      },
      "source": [
        "Now let's evaluate our prediction. Here, we're not going to classify as 0 or 1, but rather estimate the prediction. Note, we then would need to pick a threshold to have a classifier. We could use .5 as our threshold. However, it's often the case that we don't necessarily want to threshold at specifically that level. A solution for evalution is to plot how the sensitivity and specificity change by the threshold. \n",
        "\n",
        "In other words, consider the triplets\n",
        "$$\n",
        "(t, sens(t), spec(t))\n",
        "$$\n",
        "where $t$ is the threshold, `sens(t)` is the sensitivity at threshold $t$, `spec(t)` is the specificity at threshold `t`. \n",
        "\n",
        "Necessarily, the sensitivity and specificity \n",
        "\n"
      ]
    },
    {
      "cell_type": "code",
      "metadata": {
        "id": "zxlcuTECxCyQ",
        "colab_type": "code",
        "outputId": "45cce149-b073-4f67-a5bc-6dd133c35b19",
        "colab": {
          "base_uri": "https://localhost:8080/",
          "height": 300
        }
      },
      "source": [
        "phatTesting = fit.predict(xtesting)\n",
        "\n",
        "## See here for plotting\n",
        "## https://stackoverflow.com/questions/25009284/how-to-plot-roc-curve-in-python\n",
        "fpr, tpr, threshold = skl.metrics.roc_curve(ytesting, phatTesting)\n",
        "roc_auc = skl.metrics.auc(fpr, tpr)\n",
        "\n",
        "# method I: plt\n",
        "import matplotlib.pyplot as plt\n",
        "plt.title('Receiver Operating Characteristic')\n",
        "plt.plot(fpr, tpr, 'b', label = 'AUC = %0.2f' % roc_auc)\n",
        "plt.legend(loc = 'lower right')\n",
        "plt.plot([0, 1], [0, 1],'r--')\n",
        "plt.xlim([0, 1])\n",
        "plt.ylim([0, 1])\n",
        "plt.ylabel('True Positive Rate')\n",
        "plt.xlabel('False Positive Rate')\n",
        "plt.show()\n"
      ],
      "execution_count": 0,
      "outputs": [
        {
          "output_type": "display_data",
          "data": {
            "image/png": "[encoded data removed]",
            "text/plain": [
              "<Figure size 432x288 with 1 Axes>"
            ]
          },
          "metadata": {
            "tags": []
          }
        }
      ]
    },
    {
      "cell_type": "markdown",
      "metadata": {
        "id": "iaXw2nFg6UoO",
        "colab_type": "text"
      },
      "source": [
        "## Aside different python packages\n",
        "\n",
        "So far we've explored several plotting libraries including: default pandas methods, matplotlib, seaborn and plotly. We've also looked at several fitting libraries including to some extent numpy, but especially scikitlearn and statsmodels. What's the difference? Well, these packages are all mantained by different people and have different features and goals. For example, scikitlearn is more expansive than statsmodels, but statsmodels functions more like one is used to with statistical output. Matplotlib is very expansive, but seaborn has nicer default options and is a little easier. So, when doing data science with python, one has to get used to trying out a few packages, weighing the cost and benefits of each, and picking one. \n",
        "\n",
        "'statsmodels', what we're using above, has multiple methods for fitting binary models including: `sm.Logit`, `smf.logit`, `BinaryModel` and `glm`. Here I'm just going to use `Logit` which does not use the formula syntax of `logit`. Note, by default, this does not add an intercept this way. So, I'm adding a column of ones, which adds an intercept.\n",
        "\n",
        "Consider the following which uses the formula API\n"
      ]
    },
    {
      "cell_type": "code",
      "metadata": {
        "id": "yj_2oMxvWC4S",
        "colab_type": "code",
        "outputId": "d26331ae-ee28-4d75-ef43-faed8dc31c8e",
        "colab": {
          "base_uri": "https://localhost:8080/",
          "height": 414
        }
      },
      "source": [
        "results = smf.logit(formula = 'GOLD_Lesions ~ FLAIR + T1 + T2 + FLAIR_10 + T1_10 + T2_10 + FLAIR_20', data = trainingDat).fit()\n",
        "results.summary()"
      ],
      "execution_count": 0,
      "outputs": [
        {
          "output_type": "stream",
          "text": [
            "Optimization terminated successfully.\n",
            "         Current function value: 0.247246\n",
            "         Iterations 8\n"
          ],
          "name": "stdout"
        },
        {
          "output_type": "execute_result",
          "data": {
            "text/html": [
              "<table class=\"simpletable\">\n",
              "<caption>Logit Regression Results</caption>\n",
              "<tr>\n",
              "  <th>Dep. Variable:</th>     <td>GOLD_Lesions</td>   <th>  No. Observations:  </th>  <td>    76</td>  \n",
              "</tr>\n",
              "<tr>\n",
              "  <th>Model:</th>                 <td>Logit</td>      <th>  Df Residuals:      </th>  <td>    68</td>  \n",
              "</tr>\n",
              "<tr>\n",
              "  <th>Method:</th>                 <td>MLE</td>       <th>  Df Model:          </th>  <td>     7</td>  \n",
              "</tr>\n",
              "<tr>\n",
              "  <th>Date:</th>            <td>Mon, 23 Mar 2020</td> <th>  Pseudo R-squ.:     </th>  <td>0.6433</td>  \n",
              "</tr>\n",
              "<tr>\n",
              "  <th>Time:</th>                <td>22:31:37</td>     <th>  Log-Likelihood:    </th> <td> -18.791</td> \n",
              "</tr>\n",
              "<tr>\n",
              "  <th>converged:</th>             <td>True</td>       <th>  LL-Null:           </th> <td> -52.679</td> \n",
              "</tr>\n",
              "<tr>\n",
              "  <th>Covariance Type:</th>     <td>nonrobust</td>    <th>  LLR p-value:       </th> <td>4.152e-12</td>\n",
              "</tr>\n",
              "</table>\n",
              "<table class=\"simpletable\">\n",
              "<tr>\n",
              "      <td></td>         <th>coef</th>     <th>std err</th>      <th>z</th>      <th>P>|z|</th>  <th>[0.025</th>    <th>0.975]</th>  \n",
              "</tr>\n",
              "<tr>\n",
              "  <th>Intercept</th> <td>   -3.7753</td> <td>    1.757</td> <td>   -2.149</td> <td> 0.032</td> <td>   -7.219</td> <td>   -0.332</td>\n",
              "</tr>\n",
              "<tr>\n",
              "  <th>FLAIR</th>     <td>    1.4890</td> <td>    1.180</td> <td>    1.262</td> <td> 0.207</td> <td>   -0.823</td> <td>    3.801</td>\n",
              "</tr>\n",
              "<tr>\n",
              "  <th>T1</th>        <td>    3.3187</td> <td>    1.376</td> <td>    2.411</td> <td> 0.016</td> <td>    0.621</td> <td>    6.016</td>\n",
              "</tr>\n",
              "<tr>\n",
              "  <th>T2</th>        <td>    2.8589</td> <td>    1.420</td> <td>    2.013</td> <td> 0.044</td> <td>    0.075</td> <td>    5.642</td>\n",
              "</tr>\n",
              "<tr>\n",
              "  <th>FLAIR_10</th>  <td>    5.8541</td> <td>    3.747</td> <td>    1.562</td> <td> 0.118</td> <td>   -1.491</td> <td>   13.199</td>\n",
              "</tr>\n",
              "<tr>\n",
              "  <th>T1_10</th>     <td>    1.0333</td> <td>    1.584</td> <td>    0.653</td> <td> 0.514</td> <td>   -2.070</td> <td>    4.137</td>\n",
              "</tr>\n",
              "<tr>\n",
              "  <th>T2_10</th>     <td>   -7.4524</td> <td>    4.283</td> <td>   -1.740</td> <td> 0.082</td> <td>  -15.847</td> <td>    0.943</td>\n",
              "</tr>\n",
              "<tr>\n",
              "  <th>FLAIR_20</th>  <td>  -14.6407</td> <td>    9.431</td> <td>   -1.552</td> <td> 0.121</td> <td>  -33.126</td> <td>    3.844</td>\n",
              "</tr>\n",
              "</table>"
            ],
            "text/plain": [
              "<class 'statsmodels.iolib.summary.Summary'>\n",
              "\"\"\"\n",
              "                           Logit Regression Results                           \n",
              "==============================================================================\n",
              "Dep. Variable:           GOLD_Lesions   No. Observations:                   76\n",
              "Model:                          Logit   Df Residuals:                       68\n",
              "Method:                           MLE   Df Model:                            7\n",
              "Date:                Mon, 23 Mar 2020   Pseudo R-squ.:                  0.6433\n",
              "Time:                        22:31:37   Log-Likelihood:                -18.791\n",
              "converged:                       True   LL-Null:                       -52.679\n",
              "Covariance Type:            nonrobust   LLR p-value:                 4.152e-12\n",
              "==============================================================================\n",
              "                 coef    std err          z      P>|z|      [0.025      0.975]\n",
              "------------------------------------------------------------------------------\n",
              "Intercept     -3.7753      1.757     -2.149      0.032      -7.219      -0.332\n",
              "FLAIR          1.4890      1.180      1.262      0.207      -0.823       3.801\n",
              "T1             3.3187      1.376      2.411      0.016       0.621       6.016\n",
              "T2             2.8589      1.420      2.013      0.044       0.075       5.642\n",
              "FLAIR_10       5.8541      3.747      1.562      0.118      -1.491      13.199\n",
              "T1_10          1.0333      1.584      0.653      0.514      -2.070       4.137\n",
              "T2_10         -7.4524      4.283     -1.740      0.082     -15.847       0.943\n",
              "FLAIR_20     -14.6407      9.431     -1.552      0.121     -33.126       3.844\n",
              "==============================================================================\n",
              "\"\"\""
            ]
          },
          "metadata": {
            "tags": []
          },
          "execution_count": 8
        }
      ]
    }
  ]
}